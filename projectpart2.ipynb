{
 "cells": [
  {
   "cell_type": "markdown",
   "id": "e82d3bc8",
   "metadata": {},
   "source": [
    "CCM Computing Programs Survey Analysis\n",
    "Author: Logan Ash\n",
    "Date: February 21, 2025\n",
    "Purpose: To analyze and visualize trends in CCM computing program enrollment from 2020-2024"
   ]
  },
  {
   "cell_type": "markdown",
   "id": "20624ec1",
   "metadata": {},
   "source": [
    "----------------------- SETUP & IMPORTS ------------------------------"
   ]
  },
  {
   "cell_type": "code",
   "execution_count": null,
   "id": "07756c43",
   "metadata": {},
   "outputs": [],
   "source": [
    "# Section 1: Import necessary libraries and configure settings\n",
    "# Import core data handling libraries\n",
    "import pandas as pd\n",
    "import numpy as np"
   ]
  },
  {
   "cell_type": "code",
   "execution_count": null,
   "id": "1dc72c62",
   "metadata": {},
   "outputs": [],
   "source": [
    "# Import visualization libraries\n",
    "import matplotlib.pyplot as plt\n",
    "import seaborn as sns"
   ]
  },
  {
   "cell_type": "code",
   "execution_count": null,
   "id": "696951f8",
   "metadata": {},
   "outputs": [],
   "source": [
    "# Import utility libraries\n",
    "import re\n",
    "import os\n",
    "from datetime import datetime"
   ]
  },
  {
   "cell_type": "code",
   "execution_count": null,
   "id": "a6f8611a",
   "metadata": {},
   "outputs": [],
   "source": [
    "# Set visualization style for consistent appearance\n",
    "plt.style.use('seaborn-v0_8-whitegrid')\n",
    "sns.set_palette('colorblind')\n",
    "plt.rcParams.update({'font.size': 12})"
   ]
  },
  {
   "cell_type": "code",
   "execution_count": null,
   "id": "7664d0fd",
   "metadata": {},
   "outputs": [],
   "source": [
    "# Display options for better output readability\n",
    "pd.set_option('display.max_columns', None)\n",
    "pd.set_option('display.width', 200)\n",
    "pd.set_option('display.float_format', '{:.2f}'.format)"
   ]
  },
  {
   "cell_type": "markdown",
   "id": "09638f7b",
   "metadata": {},
   "source": [
    "----------------------- DATA LOADING ------------------------------"
   ]
  },
  {
   "cell_type": "code",
   "execution_count": null,
   "id": "e795dc89",
   "metadata": {},
   "outputs": [],
   "source": [
    "# Section 2: Load and examine the data files\n",
    "# List of survey files to analyze (one for each year)\n",
    "files = [\n",
    "    'Majors Survey Results  Fall 2020.csv',\n",
    "    'Majors Survey Results  Fall 2021.csv',\n",
    "    'Majors Survey Results  Fall 2022.csv',\n",
    "    'Majors Survey Results  Fall 2023.csv',\n",
    "    'Majors Survey Results  Fall 2024.csv'\n",
    "]"
   ]
  },
  {
   "cell_type": "code",
   "execution_count": null,
   "id": "04297cf8",
   "metadata": {},
   "outputs": [],
   "source": [
    "# Initial exploration of one file to understand structure\n",
    "df_2023 = pd.read_csv('Majors Survey Results  Fall 2023.csv')"
   ]
  },
  {
   "cell_type": "code",
   "execution_count": null,
   "id": "31b524ab",
   "metadata": {},
   "outputs": [],
   "source": [
    "# Display basic information about the dataset\n",
    "print(f\"Dataset shape: {df_2023.shape}\")\n",
    "print(\"\\nFirst 5 column names:\")\n",
    "print(df_2023.columns[:5].tolist())"
   ]
  },
  {
   "cell_type": "markdown",
   "id": "47f59cd9",
   "metadata": {},
   "source": [
    "----------------------- DATA EXPLORATION ---------------------------"
   ]
  },
  {
   "cell_type": "markdown",
   "id": "a9e2a641",
   "metadata": {},
   "source": [
    "Section 3: Explore the data structure\n",
    "Examine core statistics and content before cleaning"
   ]
  },
  {
   "cell_type": "code",
   "execution_count": null,
   "id": "c7c02a27",
   "metadata": {},
   "outputs": [],
   "source": [
    "# Check basic summary statistics\n",
    "df_2023.describe().T"
   ]
  },
  {
   "cell_type": "code",
   "execution_count": null,
   "id": "e0954622",
   "metadata": {},
   "outputs": [],
   "source": [
    "# View the first few rows to understand data format\n",
    "df_2023.head(2)"
   ]
  },
  {
   "cell_type": "code",
   "execution_count": null,
   "id": "8513f600",
   "metadata": {},
   "outputs": [],
   "source": [
    "# Check column data types\n",
    "df_2023.dtypes"
   ]
  },
  {
   "cell_type": "code",
   "execution_count": null,
   "id": "6d98e31c",
   "metadata": {},
   "outputs": [],
   "source": [
    "# Define key columns for analysis\n",
    "key_columns = [\n",
    "    'Which course are you enrolled in?',\n",
    "    'What degree program are you currently enrolled in?',\n",
    "    'Gender',\n",
    "    'Age ',\n",
    "    'Race/ethnicity',\n",
    "    'On a scale of 1 to 5, with 1 being not at all interested and 5 being extremely interested, how interested are you in taking more computing classes?'\n",
    "]"
   ]
  },
  {
   "cell_type": "code",
   "execution_count": null,
   "id": "a8df185f",
   "metadata": {
    "lines_to_next_cell": 1
   },
   "outputs": [],
   "source": [
    "# Check for missing values in key columns\n",
    "print(\"Missing values in key columns:\")\n",
    "df_2023[key_columns].isnull().sum()"
   ]
  },
  {
   "cell_type": "markdown",
   "id": "87907fff",
   "metadata": {},
   "source": [
    "----------------------- DATA CLEANING ------------------------------"
   ]
  },
  {
   "cell_type": "markdown",
   "id": "8ced435c",
   "metadata": {},
   "source": [
    "Section 4: Define standardization functions\n",
    "These functions will clean and normalize data across all survey years"
   ]
  },
  {
   "cell_type": "code",
   "execution_count": null,
   "id": "533d352f",
   "metadata": {
    "lines_to_next_cell": 1
   },
   "outputs": [],
   "source": [
    "def standardize_degree_program(program):\n",
    "    \"\"\"\n",
    "    Standardize degree program names to consistent categories.\n",
    "    \n",
    "    Parameters:\n",
    "    program (str): Raw program name from survey\n",
    "    \n",
    "    Returns:\n",
    "    str: Standardized program category\n",
    "    \"\"\"\n",
    "    if pd.isna(program):\n",
    "        return 'Unknown'\n",
    "    \n",
    "    # Normalize case and trim whitespace\n",
    "    normalized = str(program).strip()\n",
    "    \n",
    "    # Group similar programs using regex pattern matching\n",
    "    if re.search(r'computer science', normalized, re.I):\n",
    "        return 'Computer Science'\n",
    "    elif re.search(r'information technology', normalized, re.I):\n",
    "        return 'Information Technology'\n",
    "    elif re.search(r'game development', normalized, re.I):\n",
    "        return 'Game Development'\n",
    "    elif re.search(r'engineering|engineer', normalized, re.I):\n",
    "        return 'Engineering'\n",
    "    elif re.search(r'sharetime|share time|csip', normalized, re.I):\n",
    "        return 'ShareTime Program'\n",
    "    elif re.search(r'certification|certificate|achievement', normalized, re.I):\n",
    "        return 'Certificate Program'\n",
    "    elif re.search(r'undecided', normalized, re.I):\n",
    "        return 'Undecided'\n",
    "    elif re.search(r'non degree|non-degree', normalized, re.I):\n",
    "        return 'Non-Degree'\n",
    "    elif re.search(r'data', normalized, re.I):\n",
    "        return 'Data Analytics/Science'\n",
    "    else:\n",
    "        return 'Other'"
   ]
  },
  {
   "cell_type": "code",
   "execution_count": null,
   "id": "99a7b98e",
   "metadata": {
    "lines_to_next_cell": 1
   },
   "outputs": [],
   "source": [
    "def standardize_gender(gender):\n",
    "    \"\"\"\n",
    "    Standardize gender values to consistent categories.\n",
    "    \n",
    "    Parameters:\n",
    "    gender (str): Raw gender value from survey\n",
    "    \n",
    "    Returns:\n",
    "    str: Standardized gender category\n",
    "    \"\"\"\n",
    "    if pd.isna(gender):\n",
    "        return 'Unknown'\n",
    "    \n",
    "    normalized_gender = str(gender).lower().strip()\n",
    "    \n",
    "    if normalized_gender in ['man', 'male']:\n",
    "        return 'Man'\n",
    "    elif normalized_gender in ['woman', 'female', 'women']:\n",
    "        return 'Woman'\n",
    "    elif 'non-binary' in normalized_gender or 'nonbinary' in normalized_gender:\n",
    "        return 'Non-binary'\n",
    "    elif 'prefer not' in normalized_gender or 'not say' in normalized_gender or 'do not identify' in normalized_gender:\n",
    "        return 'Prefer not to say'\n",
    "    else:\n",
    "        return 'Other'"
   ]
  },
  {
   "cell_type": "code",
   "execution_count": null,
   "id": "a81c772d",
   "metadata": {
    "lines_to_next_cell": 1
   },
   "outputs": [],
   "source": [
    "def standardize_age(age):\n",
    "    \"\"\"\n",
    "    Standardize age ranges to consistent categories.\n",
    "    \n",
    "    Parameters:\n",
    "    age (str): Raw age value from survey\n",
    "    \n",
    "    Returns:\n",
    "    str: Standardized age category\n",
    "    \"\"\"\n",
    "    if pd.isna(age):\n",
    "        return 'Unknown'\n",
    "    \n",
    "    # Fix any formatting issues\n",
    "    age_str = str(age).strip()\n",
    "    \n",
    "    # Handle specific known formats\n",
    "    if age_str == '18 and younger\"':\n",
    "        return '18 and younger'\n",
    "    if age_str == '25-34\"':\n",
    "        return '25-34'\n",
    "    \n",
    "    return age_str"
   ]
  },
  {
   "cell_type": "code",
   "execution_count": null,
   "id": "262698ee",
   "metadata": {
    "lines_to_next_cell": 1
   },
   "outputs": [],
   "source": [
    "def standardize_race(race):\n",
    "    \"\"\"\n",
    "    Standardize race/ethnicity values to consistent categories.\n",
    "    \n",
    "    Parameters:\n",
    "    race (str): Raw race/ethnicity value from survey\n",
    "    \n",
    "    Returns:\n",
    "    str: Standardized race/ethnicity category\n",
    "    \"\"\"\n",
    "    if pd.isna(race):\n",
    "        return 'Unknown'\n",
    "    \n",
    "    # Convert to string\n",
    "    race_str = str(race)\n",
    "    \n",
    "    # Handle multi-selection responses\n",
    "    if ';' in race_str:\n",
    "        return 'Multi-Racial'\n",
    "    \n",
    "    # Normalize single selections\n",
    "    if re.search(r'white|caucasian', race_str, re.I):\n",
    "        return 'White/Caucasian'\n",
    "    elif re.search(r'black|african', race_str, re.I):\n",
    "        return 'Black/African American'\n",
    "    elif re.search(r'hispanic|latino', race_str, re.I):\n",
    "        return 'Hispanic or Latino'\n",
    "    elif re.search(r'asian', race_str, re.I):\n",
    "        return 'Asian'\n",
    "    elif re.search(r'native|indigenous|american indian', race_str, re.I):\n",
    "        return 'Native American/Indigenous'\n",
    "    elif re.search(r'choose not|prefer not|not say', race_str, re.I):\n",
    "        return 'Prefer not to say'\n",
    "    else:\n",
    "        return 'Other'"
   ]
  },
  {
   "cell_type": "code",
   "execution_count": null,
   "id": "a6910f83",
   "metadata": {
    "lines_to_next_cell": 1
   },
   "outputs": [],
   "source": [
    "def standardize_impact(impact):\n",
    "    \"\"\"\n",
    "    Standardize impact values to consistent categories.\n",
    "    \n",
    "    Parameters:\n",
    "    impact (str): Raw impact value from survey\n",
    "    \n",
    "    Returns:\n",
    "    str: Standardized impact category\n",
    "    \"\"\"\n",
    "    if pd.isna(impact):\n",
    "        return 'Unknown'\n",
    "    \n",
    "    impact_str = str(impact).strip()\n",
    "    \n",
    "    if impact_str == 'High Impact':\n",
    "        return 'High'\n",
    "    if impact_str == 'Some Impact':\n",
    "        return 'Medium'\n",
    "    if impact_str == 'No Impact':\n",
    "        return 'Low'\n",
    "    if impact_str == 'N/A':\n",
    "        return 'Not Applicable'\n",
    "    \n",
    "    return impact_str"
   ]
  },
  {
   "cell_type": "markdown",
   "id": "69465917",
   "metadata": {},
   "source": [
    "----------------------- DATA INTEGRATION ---------------------------"
   ]
  },
  {
   "cell_type": "markdown",
   "id": "cc9b9161",
   "metadata": {},
   "source": [
    "Section 5: Process and combine all files\n",
    "Read, clean, and combine all five years of data"
   ]
  },
  {
   "cell_type": "code",
   "execution_count": null,
   "id": "a4b23bab",
   "metadata": {},
   "outputs": [],
   "source": [
    "# Create an empty list to store dataframes\n",
    "dataframes = []"
   ]
  },
  {
   "cell_type": "code",
   "execution_count": null,
   "id": "3435ac88",
   "metadata": {},
   "outputs": [],
   "source": [
    "for file in files:\n",
    "    # Extract year from filename\n",
    "    year = re.search(r'Fall (\\d{4})', file).group(1)\n",
    "    print(f\"Processing {year} data...\")\n",
    "    \n",
    "    # Read the CSV file\n",
    "    df = pd.read_csv(file)\n",
    "    \n",
    "    # Add year column\n",
    "    df['year'] = int(year)\n",
    "    \n",
    "    # Select and rename columns\n",
    "    selected_cols = [\n",
    "        'year',\n",
    "        'Which course are you enrolled in?',\n",
    "        'What degree program are you currently enrolled in?',\n",
    "        'Gender',\n",
    "        'Age ',\n",
    "        'Race/ethnicity',\n",
    "        'On a scale of 1 to 5, with 1 being not at all interested and 5 being extremely interested, how interested are you in taking more computing classes?'\n",
    "    ]\n",
    "    \n",
    "    try:\n",
    "        # Create a new dataframe with selected columns\n",
    "        df_selected = df[selected_cols].copy()\n",
    "        \n",
    "        # Rename columns for clarity and consistency\n",
    "        df_selected.columns = [\n",
    "            'year',\n",
    "            'course',\n",
    "            'degree_program',\n",
    "            'gender',\n",
    "            'age',\n",
    "            'race_ethnicity',\n",
    "            'interest_level'\n",
    "        ]\n",
    "        \n",
    "        # Apply standardization functions\n",
    "        df_selected['degree_program'] = df_selected['degree_program'].apply(standardize_degree_program)\n",
    "        df_selected['gender'] = df_selected['gender'].apply(standardize_gender)\n",
    "        df_selected['age'] = df_selected['age'].apply(standardize_age)\n",
    "        df_selected['race_ethnicity'] = df_selected['race_ethnicity'].apply(standardize_race)\n",
    "        \n",
    "        # Add to list of dataframes\n",
    "        dataframes.append(df_selected)\n",
    "        \n",
    "        print(f\"Processed {len(df)} rows from {year}\")\n",
    "    except Exception as e:\n",
    "        print(f\"Error processing {file}: {e}\")"
   ]
  },
  {
   "cell_type": "code",
   "execution_count": null,
   "id": "ebd5c939",
   "metadata": {},
   "outputs": [],
   "source": [
    "# Combine all dataframes\n",
    "combined_df = pd.concat(dataframes, ignore_index=True)"
   ]
  },
  {
   "cell_type": "code",
   "execution_count": null,
   "id": "29b07ae2",
   "metadata": {},
   "outputs": [],
   "source": [
    "# Show the combined dataframe info\n",
    "print(\"\\nCombined Dataset Information:\")\n",
    "print(f\"Total rows: {len(combined_df)}\")\n",
    "print(f\"Columns: {combined_df.columns.tolist()}\")"
   ]
  },
  {
   "cell_type": "code",
   "execution_count": null,
   "id": "7f95121d",
   "metadata": {},
   "outputs": [],
   "source": [
    "# Display the first few rows of the combined dataset\n",
    "combined_df.head()"
   ]
  },
  {
   "cell_type": "code",
   "execution_count": null,
   "id": "9b6658d9",
   "metadata": {},
   "outputs": [],
   "source": [
    "# Verify standardized values distribution\n",
    "print(\"\\nDegree Program Distribution:\")\n",
    "print(combined_df['degree_program'].value_counts())"
   ]
  },
  {
   "cell_type": "code",
   "execution_count": null,
   "id": "6fc61329",
   "metadata": {},
   "outputs": [],
   "source": [
    "print(\"\\nGender Distribution:\")\n",
    "print(combined_df['gender'].value_counts())"
   ]
  },
  {
   "cell_type": "code",
   "execution_count": null,
   "id": "2d87cd80",
   "metadata": {},
   "outputs": [],
   "source": [
    "print(\"\\nAge Distribution:\")\n",
    "print(combined_df['age'].value_counts())"
   ]
  },
  {
   "cell_type": "code",
   "execution_count": null,
   "id": "7559ccc5",
   "metadata": {},
   "outputs": [],
   "source": [
    "print(\"\\nRace/Ethnicity Distribution:\")\n",
    "print(combined_df['race_ethnicity'].value_counts())"
   ]
  },
  {
   "cell_type": "markdown",
   "id": "3dd6df3a",
   "metadata": {},
   "source": [
    "----------------------- DATA ANALYSIS ---------------------------"
   ]
  },
  {
   "cell_type": "markdown",
   "id": "20741f25",
   "metadata": {},
   "source": [
    "Section 6: Analyze trends over time\n",
    "Create year-by-year summaries of key metrics"
   ]
  },
  {
   "cell_type": "code",
   "execution_count": null,
   "id": "431de0ab",
   "metadata": {},
   "outputs": [],
   "source": [
    "# Create a yearly summary of key metrics\n",
    "yearly_summary = combined_df.groupby('year').agg(\n",
    "    total_students=('degree_program', 'count'),\n",
    "    cs_students=('degree_program', lambda x: (x == 'Computer Science').sum()),\n",
    "    it_students=('degree_program', lambda x: (x == 'Information Technology').sum()),\n",
    "    women_students=('gender', lambda x: (x == 'Woman').sum()),\n",
    "    young_students=('age', lambda x: (x == '18 and younger').sum()),\n",
    "    nonwhite_students=('race_ethnicity', lambda x: (~x.isin(['White/Caucasian', 'Unknown', 'Prefer not to say'])).sum())\n",
    ")"
   ]
  },
  {
   "cell_type": "code",
   "execution_count": null,
   "id": "935bb981",
   "metadata": {},
   "outputs": [],
   "source": [
    "# Calculate percentage metrics for better comparison\n",
    "yearly_summary['cs_percent'] = (yearly_summary['cs_students'] / yearly_summary['total_students'] * 100).round(1)\n",
    "yearly_summary['it_percent'] = (yearly_summary['it_students'] / yearly_summary['total_students'] * 100).round(1)\n",
    "yearly_summary['women_percent'] = (yearly_summary['women_students'] / yearly_summary['total_students'] * 100).round(1)\n",
    "yearly_summary['young_percent'] = (yearly_summary['young_students'] / yearly_summary['total_students'] * 100).round(1)\n",
    "yearly_summary['nonwhite_percent'] = (yearly_summary['nonwhite_students'] / yearly_summary['total_students'] * 100).round(1)"
   ]
  },
  {
   "cell_type": "code",
   "execution_count": null,
   "id": "cd31ced5",
   "metadata": {},
   "outputs": [],
   "source": [
    "# Display yearly summary table\n",
    "yearly_summary"
   ]
  },
  {
   "cell_type": "code",
   "execution_count": null,
   "id": "32a1d592",
   "metadata": {},
   "outputs": [],
   "source": [
    "# Analyze interest levels by year\n",
    "interest_by_year = combined_df.dropna(subset=['interest_level']).groupby('year').agg(\n",
    "    avg_interest=('interest_level', 'mean'),\n",
    "    response_count=('interest_level', 'count')\n",
    ")"
   ]
  },
  {
   "cell_type": "code",
   "execution_count": null,
   "id": "7d622d9f",
   "metadata": {},
   "outputs": [],
   "source": [
    "# Calculate high interest percentages (4-5 rating)\n",
    "high_interest_by_year = combined_df.dropna(subset=['interest_level'])\n",
    "high_interest_by_year['high_interest'] = high_interest_by_year['interest_level'] >= 4\n",
    "high_interest_counts = high_interest_by_year.groupby('year').agg(\n",
    "    high_interest_count=('high_interest', 'sum'),\n",
    "    total_responses=('interest_level', 'count')\n",
    ")\n",
    "high_interest_counts['high_interest_percent'] = (high_interest_counts['high_interest_count'] / high_interest_counts['total_responses'] * 100).round(1)"
   ]
  },
  {
   "cell_type": "code",
   "execution_count": null,
   "id": "4d63d422",
   "metadata": {},
   "outputs": [],
   "source": [
    "# Combine with interest_by_year\n",
    "interest_by_year = pd.merge(interest_by_year, high_interest_counts[['high_interest_percent']], left_index=True, right_index=True)"
   ]
  },
  {
   "cell_type": "code",
   "execution_count": null,
   "id": "004ca742",
   "metadata": {},
   "outputs": [],
   "source": [
    "# Display interest summary\n",
    "interest_by_year"
   ]
  },
  {
   "cell_type": "markdown",
   "id": "b7f1dfcb",
   "metadata": {},
   "source": [
    "----------------------- DATA VISUALIZATION ---------------------------"
   ]
  },
  {
   "cell_type": "markdown",
   "id": "c2646850",
   "metadata": {},
   "source": [
    "Section 7: Create overview visualizations of key metrics and trends\n",
    "This section shows the primary metrics in a dashboard-style layout"
   ]
  },
  {
   "cell_type": "code",
   "execution_count": null,
   "id": "9e27ad9f",
   "metadata": {},
   "outputs": [],
   "source": [
    "# Set up plotting area for overview visualizations\n",
    "plt.figure(figsize=(15, 10))"
   ]
  },
  {
   "cell_type": "code",
   "execution_count": null,
   "id": "79c9eb28",
   "metadata": {},
   "outputs": [],
   "source": [
    "# 1. Total enrollment trend\n",
    "plt.subplot(2, 3, 1)\n",
    "plt.plot(yearly_summary.index, yearly_summary['total_students'], 'o-', linewidth=2)\n",
    "plt.title('Total Student Enrollment by Year')\n",
    "plt.xlabel('Year')\n",
    "plt.ylabel('Number of Students')\n",
    "plt.grid(True)"
   ]
  },
  {
   "cell_type": "code",
   "execution_count": null,
   "id": "c9962f70",
   "metadata": {},
   "outputs": [],
   "source": [
    "# 2. Program distribution trend\n",
    "plt.subplot(2, 3, 2)\n",
    "plt.plot(yearly_summary.index, yearly_summary['cs_percent'], 'o-', label='Computer Science')\n",
    "plt.plot(yearly_summary.index, yearly_summary['it_percent'], 's-', label='Information Technology')\n",
    "plt.title('Program Distribution Trend')\n",
    "plt.xlabel('Year')\n",
    "plt.ylabel('Percentage (%)')\n",
    "plt.legend()\n",
    "plt.grid(True)"
   ]
  },
  {
   "cell_type": "code",
   "execution_count": null,
   "id": "edb27adc",
   "metadata": {},
   "outputs": [],
   "source": [
    "# 3. Gender diversity trend\n",
    "plt.subplot(2, 3, 3)\n",
    "plt.plot(yearly_summary.index, yearly_summary['women_percent'], 'o-', color='#FF8042')\n",
    "plt.title('Women Representation (%)')\n",
    "plt.xlabel('Year')\n",
    "plt.ylabel('Percentage (%)')\n",
    "plt.grid(True)"
   ]
  },
  {
   "cell_type": "code",
   "execution_count": null,
   "id": "71fa7287",
   "metadata": {},
   "outputs": [],
   "source": [
    "# 4. Age distribution trend\n",
    "plt.subplot(2, 3, 4)\n",
    "plt.plot(yearly_summary.index, yearly_summary['young_percent'], 'o-', color='#8884d8')\n",
    "plt.title('Students 18 and Younger (%)')\n",
    "plt.xlabel('Year')\n",
    "plt.ylabel('Percentage (%)')\n",
    "plt.grid(True)"
   ]
  },
  {
   "cell_type": "code",
   "execution_count": null,
   "id": "ac2fcba8",
   "metadata": {},
   "outputs": [],
   "source": [
    "# 5. Interest level trend\n",
    "plt.subplot(2, 3, 5)\n",
    "plt.plot(interest_by_year.index, interest_by_year['avg_interest'], 'o-', color='#8884d8', label='Avg Interest (1-5)')\n",
    "plt.plot(interest_by_year.index, interest_by_year['high_interest_percent']/20, 's-', color='#82ca9d', label='High Interest % (÷20)')\n",
    "plt.title('Interest in Further Computing Classes')\n",
    "plt.xlabel('Year')\n",
    "plt.ylabel('Average Interest Level')\n",
    "plt.legend()\n",
    "plt.grid(True)"
   ]
  },
  {
   "cell_type": "code",
   "execution_count": null,
   "id": "547026e0",
   "metadata": {},
   "outputs": [],
   "source": [
    "# 6. Diversity trend\n",
    "plt.subplot(2, 3, 6)\n",
    "plt.plot(yearly_summary.index, yearly_summary['nonwhite_percent'], 'o-', color='#82ca9d')\n",
    "plt.title('Non-White Student Representation (%)')\n",
    "plt.xlabel('Year')\n",
    "plt.ylabel('Percentage (%)')\n",
    "plt.grid(True)"
   ]
  },
  {
   "cell_type": "code",
   "execution_count": null,
   "id": "5fd93ab6",
   "metadata": {},
   "outputs": [],
   "source": [
    "# Save figure with meaningful filename and ensure proper layout\n",
    "plt.tight_layout()\n",
    "plt.savefig('ccm_survey_trends.png', dpi=300)\n",
    "plt.show()"
   ]
  },
  {
   "cell_type": "markdown",
   "id": "deebbb4d",
   "metadata": {},
   "source": [
    "----------------------- DETAILED VISUALIZATIONS ---------------------------"
   ]
  },
  {
   "cell_type": "markdown",
   "id": "0924b194",
   "metadata": {},
   "source": [
    "Section 8: Create detailed category breakdown visualizations\n",
    "These visualizations show more detailed breakdowns of the key categories"
   ]
  },
  {
   "cell_type": "code",
   "execution_count": null,
   "id": "0afb19e0",
   "metadata": {},
   "outputs": [],
   "source": [
    "# 1. Detailed program distribution by year (stacked bar)\n",
    "program_data = combined_df.groupby(['year', 'degree_program']).size().unstack().fillna(0)\n",
    "program_data = program_data.reindex(columns=['Computer Science', 'Information Technology', 'Engineering', \n",
    "                                           'Game Development', 'ShareTime Program', 'Certificate Program', \n",
    "                                           'Undecided', 'Non-Degree', 'Data Analytics/Science', 'Other'])"
   ]
  },
  {
   "cell_type": "code",
   "execution_count": null,
   "id": "b075779d",
   "metadata": {},
   "outputs": [],
   "source": [
    "plt.figure(figsize=(12, 6))\n",
    "program_data.plot(kind='bar', stacked=True, figsize=(12, 6))\n",
    "plt.title('Program Distribution by Year')\n",
    "plt.xlabel('Year')\n",
    "plt.ylabel('Number of Students')\n",
    "plt.legend(title='Degree Program', bbox_to_anchor=(1.05, 1), loc='upper left')\n",
    "plt.tight_layout()\n",
    "plt.savefig('ccm_program_distribution.png', dpi=300)\n",
    "plt.show()"
   ]
  },
  {
   "cell_type": "code",
   "execution_count": null,
   "id": "2c0944ca",
   "metadata": {},
   "outputs": [],
   "source": [
    "# 2. Gender distribution by year (stacked bar)\n",
    "gender_data = combined_df.groupby(['year', 'gender']).size().unstack().fillna(0)"
   ]
  },
  {
   "cell_type": "code",
   "execution_count": null,
   "id": "492209a0",
   "metadata": {},
   "outputs": [],
   "source": [
    "plt.figure(figsize=(12, 6))\n",
    "gender_data.plot(kind='bar', stacked=True, figsize=(12, 6))\n",
    "plt.title('Gender Distribution by Year')\n",
    "plt.xlabel('Year')\n",
    "plt.ylabel('Number of Students')\n",
    "plt.legend(title='Gender', bbox_to_anchor=(1.05, 1), loc='upper left')\n",
    "plt.tight_layout()\n",
    "plt.savefig('ccm_gender_distribution.png', dpi=300)\n",
    "plt.show()"
   ]
  },
  {
   "cell_type": "code",
   "execution_count": null,
   "id": "8ada4faa",
   "metadata": {},
   "outputs": [],
   "source": [
    "# 3. Age distribution by year (stacked bar)\n",
    "age_data = combined_df.groupby(['year', 'age']).size().unstack().fillna(0)\n",
    "# Sort columns by age category for logical order\n",
    "age_order = ['18 and younger', '19-20', '21-24', '25-34', '35-64', '65+', 'Unknown']\n",
    "age_data = age_data.reindex(columns=[col for col in age_order if col in age_data.columns])"
   ]
  },
  {
   "cell_type": "code",
   "execution_count": null,
   "id": "21386522",
   "metadata": {},
   "outputs": [],
   "source": [
    "plt.figure(figsize=(12, 6))\n",
    "age_data.plot(kind='bar', stacked=True, figsize=(12, 6))\n",
    "plt.title('Age Distribution by Year')\n",
    "plt.xlabel('Year')\n",
    "plt.ylabel('Number of Students')\n",
    "plt.legend(title='Age Group', bbox_to_anchor=(1.05, 1), loc='upper left')\n",
    "plt.tight_layout()\n",
    "plt.savefig('ccm_age_distribution.png', dpi=300)\n",
    "plt.show()"
   ]
  },
  {
   "cell_type": "code",
   "execution_count": null,
   "id": "c1bc6304",
   "metadata": {},
   "outputs": [],
   "source": [
    "# 4. Racial/ethnic diversity by year (stacked bar)\n",
    "race_data = combined_df.groupby(['year', 'race_ethnicity']).size().unstack().fillna(0)"
   ]
  },
  {
   "cell_type": "code",
   "execution_count": null,
   "id": "37f44c31",
   "metadata": {},
   "outputs": [],
   "source": [
    "plt.figure(figsize=(12, 6))\n",
    "race_data.plot(kind='bar', stacked=True, figsize=(12, 6))\n",
    "plt.title('Racial/Ethnic Distribution by Year')\n",
    "plt.xlabel('Year')\n",
    "plt.ylabel('Number of Students')\n",
    "plt.legend(title='Race/Ethnicity', bbox_to_anchor=(1.05, 1), loc='upper left')\n",
    "plt.tight_layout()\n",
    "plt.savefig('ccm_race_distribution.png', dpi=300)\n",
    "plt.show()"
   ]
  },
  {
   "cell_type": "code",
   "execution_count": null,
   "id": "227de55c",
   "metadata": {},
   "outputs": [],
   "source": [
    "# 5. Interest levels histogram by year\n",
    "plt.figure(figsize=(10, 6))\n",
    "sns.histplot(data=combined_df.dropna(subset=['interest_level']), x='interest_level', hue='year', multiple='dodge', bins=5)\n",
    "plt.title('Distribution of Interest Levels by Year')\n",
    "plt.xlabel('Interest Level (1-5)')\n",
    "plt.ylabel('Count')\n",
    "plt.tight_layout()\n",
    "plt.savefig('ccm_interest_distribution.png', dpi=300)\n",
    "plt.show()"
   ]
  },
  {
   "cell_type": "markdown",
   "id": "6a9225bc",
   "metadata": {},
   "source": [
    "----------------------- DEMOGRAPHIC ANALYSIS ---------------------------"
   ]
  },
  {
   "cell_type": "markdown",
   "id": "edfdedc3",
   "metadata": {},
   "source": [
    "Section 9: Analyze relationships between variables\n",
    "Explore how demographic factors relate to each other"
   ]
  },
  {
   "cell_type": "code",
   "execution_count": null,
   "id": "4cb7e5f1",
   "metadata": {},
   "outputs": [],
   "source": [
    "# 1. Interest level by gender\n",
    "interest_by_gender = combined_df.dropna(subset=['interest_level']).groupby(['gender']).agg(\n",
    "    avg_interest=('interest_level', 'mean'),\n",
    "    count=('interest_level', 'count')\n",
    ").sort_values('count', ascending=False)"
   ]
  },
  {
   "cell_type": "code",
   "execution_count": null,
   "id": "52d203fd",
   "metadata": {},
   "outputs": [],
   "source": [
    "# Display results\n",
    "interest_by_gender"
   ]
  },
  {
   "cell_type": "code",
   "execution_count": null,
   "id": "04f86d7a",
   "metadata": {},
   "outputs": [],
   "source": [
    "# Visualize gender interest levels\n",
    "plt.figure(figsize=(10, 6))\n",
    "sns.barplot(x=interest_by_gender.index, y='avg_interest', data=interest_by_gender)\n",
    "plt.title('Average Interest Level by Gender')\n",
    "plt.xlabel('Gender')\n",
    "plt.ylabel('Average Interest Level (1-5)')\n",
    "plt.ylim(0, 5)\n",
    "for i, v in enumerate(interest_by_gender['avg_interest']):\n",
    "    plt.text(i, v + 0.1, f\"{v:.2f}\", ha='center')\n",
    "plt.tight_layout()\n",
    "plt.savefig('ccm_interest_by_gender.png', dpi=300)\n",
    "plt.show()"
   ]
  },
  {
   "cell_type": "code",
   "execution_count": null,
   "id": "c3c60457",
   "metadata": {},
   "outputs": [],
   "source": [
    "# 2. Interest level by degree program\n",
    "interest_by_program = combined_df.dropna(subset=['interest_level']).groupby(['degree_program']).agg(\n",
    "    avg_interest=('interest_level', 'mean'),\n",
    "    count=('interest_level', 'count')\n",
    ").sort_values('count', ascending=False).head(6)  # Top 6 programs by count"
   ]
  },
  {
   "cell_type": "code",
   "execution_count": null,
   "id": "061752a2",
   "metadata": {},
   "outputs": [],
   "source": [
    "# Display results\n",
    "interest_by_program"
   ]
  },
  {
   "cell_type": "code",
   "execution_count": null,
   "id": "b50347ec",
   "metadata": {},
   "outputs": [],
   "source": [
    "# Visualize program interest levels\n",
    "plt.figure(figsize=(12, 6))\n",
    "sns.barplot(x=interest_by_program.index, y='avg_interest', data=interest_by_program)\n",
    "plt.title('Average Interest Level by Degree Program')\n",
    "plt.xlabel('Degree Program')\n",
    "plt.ylabel('Average Interest Level (1-5)')\n",
    "plt.ylim(0, 5)\n",
    "plt.xticks(rotation=45, ha='right')\n",
    "for i, v in enumerate(interest_by_program['avg_interest']):\n",
    "    plt.text(i, v + 0.1, f\"{v:.2f}\", ha='center')\n",
    "plt.tight_layout()\n",
    "plt.savefig('ccm_interest_by_program.png', dpi=300)\n",
    "plt.show()"
   ]
  },
  {
   "cell_type": "code",
   "execution_count": null,
   "id": "0bb023cd",
   "metadata": {},
   "outputs": [],
   "source": [
    "# 3. Degree program by gender (proportions)\n",
    "program_gender = pd.crosstab(combined_df['degree_program'], combined_df['gender'], normalize='index') * 100\n",
    "program_gender = program_gender.sort_values('Woman', ascending=False)"
   ]
  },
  {
   "cell_type": "code",
   "execution_count": null,
   "id": "479e4a83",
   "metadata": {},
   "outputs": [],
   "source": [
    "# Filter to top programs for clarity\n",
    "top_programs = combined_df['degree_program'].value_counts().head(6).index\n",
    "program_gender_filtered = program_gender.loc[top_programs]"
   ]
  },
  {
   "cell_type": "code",
   "execution_count": null,
   "id": "c15e1927",
   "metadata": {},
   "outputs": [],
   "source": [
    "# Display results\n",
    "program_gender_filtered"
   ]
  },
  {
   "cell_type": "code",
   "execution_count": null,
   "id": "36a51911",
   "metadata": {},
   "outputs": [],
   "source": [
    "# Visualize gender distribution by program\n",
    "plt.figure(figsize=(12, 7))\n",
    "program_gender_filtered[['Man', 'Woman']].plot(kind='bar', stacked=False)\n",
    "plt.title('Gender Distribution by Degree Program')\n",
    "plt.xlabel('Degree Program')\n",
    "plt.ylabel('Percentage (%)')\n",
    "plt.legend(title='Gender')\n",
    "plt.xticks(rotation=45, ha='right')\n",
    "plt.tight_layout()\n",
    "plt.savefig('ccm_gender_by_program.png', dpi=300)\n",
    "plt.show()"
   ]
  },
  {
   "cell_type": "markdown",
   "id": "f6e0ba91",
   "metadata": {},
   "source": [
    "----------------------- SAVE CLEANED DATA ---------------------------"
   ]
  },
  {
   "cell_type": "markdown",
   "id": "23356de7",
   "metadata": {},
   "source": [
    "Section 10: Save the cleaned data for future use"
   ]
  },
  {
   "cell_type": "code",
   "execution_count": null,
   "id": "fe8939e6",
   "metadata": {},
   "outputs": [],
   "source": [
    "# Save the cleaned combined dataset\n",
    "combined_df.to_csv('ccm_cleaned_survey_data.csv', index=False)\n",
    "print(\"Cleaned data saved to 'ccm_cleaned_survey_data.csv'\")"
   ]
  },
  {
   "cell_type": "markdown",
   "id": "b0ae1bc6",
   "metadata": {},
   "source": [
    "----------------------- FINDINGS SUMMARY ---------------------------"
   ]
  },
  {
   "cell_type": "markdown",
   "id": "6a9dacdc",
   "metadata": {},
   "source": [
    "Section 11: Summary of key findings"
   ]
  },
  {
   "cell_type": "code",
   "execution_count": null,
   "id": "23db4cad",
   "metadata": {},
   "outputs": [],
   "source": [
    "print(\"\"\"\n",
    "# Key Findings from CCM Computing Programs Survey Analysis\n",
    "\n",
    "1. **Enrollment Trends**:\n",
    "   - Total enrollment in computing programs has shown a declining trend, from 298 students in 2020 to 197 in 2024.\n",
    "   - Computer Science has become the most popular program since 2021, overtaking Information Technology.\n",
    "   - The percentage of CS majors increased from 22.5% in 2020 to 31.5% in 2024.\n",
    "\n",
    "2. **Gender Distribution**:\n",
    "   - Computing programs at CCM show a significant gender imbalance, with men representing 73-82% of students.\n",
    "   - Women's representation has slightly decreased from 22.1% in 2020 to 16.8% in 2024.\n",
    "   - There has been a small increase in non-binary student representation.\n",
    "\n",
    "3. **Age Demographics**:\n",
    "   - The student population is trending younger, with students 18 and under increasing from 33.9% in 2020 to 40.6% in 2024.\n",
    "   - The 19-24 age group remains a significant portion of the student body.\n",
    "\n",
    "4. **Interest in Computing**:\n",
    "   - Students consistently show high interest in taking additional computing classes.\n",
    "   - The average interest level has remained relatively stable between 3.4-3.7 out of 5.\n",
    "   - The percentage of students with high interest (4-5 rating) has increased from 45.6% in 2020 to 59.7% in 2024.\n",
    "\n",
    "5. **Racial/Ethnic Diversity**:\n",
    "   - The student population has become increasingly diverse over the years.\n",
    "   - Non-white student representation grew from 51.3% in 2020 to 58.9% in 2024.\n",
    "   - The Hispanic/Latino population has remained consistently significant (around 20-21%).\n",
    "   - There has been growth in multi-racial student representation.\n",
    "\n",
    "6. **Program Distribution**:\n",
    "   - The most popular programs across all years are:\n",
    "     - Computer Science (30.7%)\n",
    "     - Information Technology (23.6%)\n",
    "     - Engineering-related programs (8.8%)\n",
    "     - ShareTime Program (6.8%)\n",
    "\n",
    "7. **Interest Across Demographics**:\n",
    "   - Interest levels are fairly consistent across gender groups (average 3.5-3.7)\n",
    "   - Engineering and ShareTime Program students show the highest interest levels\n",
    "   - Computer Science majors show slightly higher interest than Information Technology majors\n",
    "\"\"\")"
   ]
  }
 ],
 "metadata": {
  "jupytext": {
   "cell_metadata_filter": "-all",
   "main_language": "python",
   "notebook_metadata_filter": "-all"
  }
 },
 "nbformat": 4,
 "nbformat_minor": 5
}
